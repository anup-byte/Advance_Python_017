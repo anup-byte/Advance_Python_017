{
 "cells": [
  {
   "cell_type": "code",
   "execution_count": 1,
   "metadata": {},
   "outputs": [],
   "source": [
    "from abc import ABC, abstractmethod"
   ]
  },
  {
   "cell_type": "code",
   "execution_count": 2,
   "metadata": {},
   "outputs": [
    {
     "name": "stdout",
     "output_type": "stream",
     "text": [
      "Automobile Created\n"
     ]
    }
   ],
   "source": [
    "class Automobile(ABC):\n",
    "\n",
    "    def __init__(self):\n",
    "        print(\"Automobile Created\")\n",
    "\n",
    "    def start(self):\n",
    "        pass\n",
    "\n",
    "    def stop(self):\n",
    "        pass\n",
    "\n",
    "    def drive(self):\n",
    "        pass\n",
    "\n",
    "c = Automobile()        "
   ]
  },
  {
   "cell_type": "code",
   "execution_count": 3,
   "metadata": {},
   "outputs": [
    {
     "ename": "TypeError",
     "evalue": "Can't instantiate abstract class Automobile with abstract method start",
     "output_type": "error",
     "traceback": [
      "\u001b[0;31m---------------------------------------------------------------------------\u001b[0m",
      "\u001b[0;31mTypeError\u001b[0m                                 Traceback (most recent call last)",
      "\u001b[1;32m/Users/anupjha/Desktop/Desk/AI KI PATHSHALA/Python/Advance_Python_017/Abstraction.ipynb Cell 3\u001b[0m line \u001b[0;36m1\n\u001b[1;32m     <a href='vscode-notebook-cell:/Users/anupjha/Desktop/Desk/AI%20KI%20PATHSHALA/Python/Advance_Python_017/Abstraction.ipynb#W2sZmlsZQ%3D%3D?line=12'>13</a>\u001b[0m     \u001b[39mdef\u001b[39;00m \u001b[39mdrive\u001b[39m(\u001b[39mself\u001b[39m):\n\u001b[1;32m     <a href='vscode-notebook-cell:/Users/anupjha/Desktop/Desk/AI%20KI%20PATHSHALA/Python/Advance_Python_017/Abstraction.ipynb#W2sZmlsZQ%3D%3D?line=13'>14</a>\u001b[0m         \u001b[39mpass\u001b[39;00m\n\u001b[0;32m---> <a href='vscode-notebook-cell:/Users/anupjha/Desktop/Desk/AI%20KI%20PATHSHALA/Python/Advance_Python_017/Abstraction.ipynb#W2sZmlsZQ%3D%3D?line=15'>16</a>\u001b[0m c \u001b[39m=\u001b[39m Automobile()        \n",
      "\u001b[0;31mTypeError\u001b[0m: Can't instantiate abstract class Automobile with abstract method start"
     ]
    }
   ],
   "source": [
    "class Automobile(ABC):\n",
    "\n",
    "    def __init__(self):\n",
    "        print(\"Automobile Created\")\n",
    "\n",
    "    @abstractmethod\n",
    "    def start(self):\n",
    "        pass\n",
    "\n",
    "    def stop(self):\n",
    "        pass\n",
    "\n",
    "    def drive(self):\n",
    "        pass\n",
    "\n",
    "c = Automobile()        "
   ]
  },
  {
   "cell_type": "code",
   "execution_count": 4,
   "metadata": {},
   "outputs": [
    {
     "ename": "TypeError",
     "evalue": "Can't instantiate abstract class Automobile with abstract methods drive, start, stop",
     "output_type": "error",
     "traceback": [
      "\u001b[0;31m---------------------------------------------------------------------------\u001b[0m",
      "\u001b[0;31mTypeError\u001b[0m                                 Traceback (most recent call last)",
      "\u001b[1;32m/Users/anupjha/Desktop/Desk/AI KI PATHSHALA/Python/Advance_Python_017/Abstraction.ipynb Cell 4\u001b[0m line \u001b[0;36m1\n\u001b[1;32m     <a href='vscode-notebook-cell:/Users/anupjha/Desktop/Desk/AI%20KI%20PATHSHALA/Python/Advance_Python_017/Abstraction.ipynb#W3sZmlsZQ%3D%3D?line=13'>14</a>\u001b[0m     \u001b[39m@abstractmethod\u001b[39m\n\u001b[1;32m     <a href='vscode-notebook-cell:/Users/anupjha/Desktop/Desk/AI%20KI%20PATHSHALA/Python/Advance_Python_017/Abstraction.ipynb#W3sZmlsZQ%3D%3D?line=14'>15</a>\u001b[0m     \u001b[39mdef\u001b[39;00m \u001b[39mdrive\u001b[39m(\u001b[39mself\u001b[39m):\n\u001b[1;32m     <a href='vscode-notebook-cell:/Users/anupjha/Desktop/Desk/AI%20KI%20PATHSHALA/Python/Advance_Python_017/Abstraction.ipynb#W3sZmlsZQ%3D%3D?line=15'>16</a>\u001b[0m         \u001b[39mpass\u001b[39;00m\n\u001b[0;32m---> <a href='vscode-notebook-cell:/Users/anupjha/Desktop/Desk/AI%20KI%20PATHSHALA/Python/Advance_Python_017/Abstraction.ipynb#W3sZmlsZQ%3D%3D?line=17'>18</a>\u001b[0m c \u001b[39m=\u001b[39m Automobile()        \n",
      "\u001b[0;31mTypeError\u001b[0m: Can't instantiate abstract class Automobile with abstract methods drive, start, stop"
     ]
    }
   ],
   "source": [
    "class Automobile(ABC):\n",
    "\n",
    "    def __init__(self):\n",
    "        print(\"Automobile Created\")\n",
    "\n",
    "    @abstractmethod\n",
    "    def start(self):\n",
    "        pass\n",
    "\n",
    "    @abstractmethod\n",
    "    def stop(self):\n",
    "        pass\n",
    "\n",
    "    @abstractmethod\n",
    "    def drive(self):\n",
    "        pass\n",
    "\n",
    "c = Automobile()        "
   ]
  },
  {
   "cell_type": "code",
   "execution_count": 5,
   "metadata": {},
   "outputs": [
    {
     "ename": "TypeError",
     "evalue": "Can't instantiate abstract class Car with abstract methods drive, start, stop",
     "output_type": "error",
     "traceback": [
      "\u001b[0;31m---------------------------------------------------------------------------\u001b[0m",
      "\u001b[0;31mTypeError\u001b[0m                                 Traceback (most recent call last)",
      "\u001b[1;32m/Users/anupjha/Desktop/Desk/AI KI PATHSHALA/Python/Advance_Python_017/Abstraction.ipynb Cell 5\u001b[0m line \u001b[0;36m2\n\u001b[1;32m     <a href='vscode-notebook-cell:/Users/anupjha/Desktop/Desk/AI%20KI%20PATHSHALA/Python/Advance_Python_017/Abstraction.ipynb#W4sZmlsZQ%3D%3D?line=20'>21</a>\u001b[0m         \u001b[39mprint\u001b[39m(\u001b[39m\"\u001b[39m\u001b[39mCar Created\u001b[39m\u001b[39m\"\u001b[39m)\n\u001b[1;32m     <a href='vscode-notebook-cell:/Users/anupjha/Desktop/Desk/AI%20KI%20PATHSHALA/Python/Advance_Python_017/Abstraction.ipynb#W4sZmlsZQ%3D%3D?line=21'>22</a>\u001b[0m         \u001b[39mself\u001b[39m\u001b[39m.\u001b[39mname \u001b[39m=\u001b[39m name\n\u001b[0;32m---> <a href='vscode-notebook-cell:/Users/anupjha/Desktop/Desk/AI%20KI%20PATHSHALA/Python/Advance_Python_017/Abstraction.ipynb#W4sZmlsZQ%3D%3D?line=23'>24</a>\u001b[0m c \u001b[39m=\u001b[39m Car(\u001b[39m\"\u001b[39;49m\u001b[39mTata\u001b[39;49m\u001b[39m\"\u001b[39;49m)        \n",
      "\u001b[0;31mTypeError\u001b[0m: Can't instantiate abstract class Car with abstract methods drive, start, stop"
     ]
    }
   ],
   "source": [
    "class Automobile(ABC):\n",
    "\n",
    "    def __init__(self):\n",
    "        print(\"Automobile Created\")\n",
    "\n",
    "    @abstractmethod\n",
    "    def start(self):\n",
    "        pass\n",
    "\n",
    "    @abstractmethod\n",
    "    def stop(self):\n",
    "        pass\n",
    "\n",
    "    @abstractmethod\n",
    "    def drive(self):\n",
    "        pass\n",
    "\n",
    "\n",
    "class Car(Automobile):   # Inheriting from Abstract class\n",
    "    def __init__(self, name):\n",
    "        print(\"Car Created\")\n",
    "        self.name = name\n",
    "\n",
    "c = Car(\"Tata\")        "
   ]
  },
  {
   "cell_type": "code",
   "execution_count": 6,
   "metadata": {},
   "outputs": [
    {
     "ename": "TypeError",
     "evalue": "Can't instantiate abstract class Car with abstract method drive",
     "output_type": "error",
     "traceback": [
      "\u001b[0;31m---------------------------------------------------------------------------\u001b[0m",
      "\u001b[0;31mTypeError\u001b[0m                                 Traceback (most recent call last)",
      "\u001b[1;32m/Users/anupjha/Desktop/Desk/AI KI PATHSHALA/Python/Advance_Python_017/Abstraction.ipynb Cell 6\u001b[0m line \u001b[0;36m3\n\u001b[1;32m     <a href='vscode-notebook-cell:/Users/anupjha/Desktop/Desk/AI%20KI%20PATHSHALA/Python/Advance_Python_017/Abstraction.ipynb#W5sZmlsZQ%3D%3D?line=29'>30</a>\u001b[0m         \u001b[39mpass\u001b[39;00m\n\u001b[1;32m     <a href='vscode-notebook-cell:/Users/anupjha/Desktop/Desk/AI%20KI%20PATHSHALA/Python/Advance_Python_017/Abstraction.ipynb#W5sZmlsZQ%3D%3D?line=32'>33</a>\u001b[0m     \u001b[39m# def drive(self):\u001b[39;00m\n\u001b[1;32m     <a href='vscode-notebook-cell:/Users/anupjha/Desktop/Desk/AI%20KI%20PATHSHALA/Python/Advance_Python_017/Abstraction.ipynb#W5sZmlsZQ%3D%3D?line=33'>34</a>\u001b[0m     \u001b[39m#     pass\u001b[39;00m\n\u001b[0;32m---> <a href='vscode-notebook-cell:/Users/anupjha/Desktop/Desk/AI%20KI%20PATHSHALA/Python/Advance_Python_017/Abstraction.ipynb#W5sZmlsZQ%3D%3D?line=36'>37</a>\u001b[0m c \u001b[39m=\u001b[39m Car(\u001b[39m\"\u001b[39;49m\u001b[39mTata\u001b[39;49m\u001b[39m\"\u001b[39;49m)        \n",
      "\u001b[0;31mTypeError\u001b[0m: Can't instantiate abstract class Car with abstract method drive"
     ]
    }
   ],
   "source": [
    "class Automobile(ABC):\n",
    "\n",
    "    def __init__(self):\n",
    "        print(\"Automobile Created\")\n",
    "\n",
    "    @abstractmethod\n",
    "    def start(self):\n",
    "        pass\n",
    "\n",
    "    @abstractmethod\n",
    "    def stop(self):\n",
    "        pass\n",
    "\n",
    "    @abstractmethod\n",
    "    def drive(self):\n",
    "        pass\n",
    "\n",
    "\n",
    "class Car(Automobile):   # Inheriting from Abstract class\n",
    "    def __init__(self, name):\n",
    "        print(\"Car Created\")\n",
    "        self.name = name\n",
    "    \n",
    "\n",
    "  \n",
    "    def start(self):\n",
    "        pass\n",
    "\n",
    "    def stop(self):\n",
    "        pass\n",
    "\n",
    "\n",
    "    # def drive(self):\n",
    "    #     pass\n",
    "\n",
    "\n",
    "c = Car(\"Tata\")        "
   ]
  },
  {
   "cell_type": "code",
   "execution_count": 7,
   "metadata": {},
   "outputs": [
    {
     "name": "stdout",
     "output_type": "stream",
     "text": [
      "Car Created\n"
     ]
    }
   ],
   "source": [
    "class Automobile(ABC):\n",
    "\n",
    "    def __init__(self):\n",
    "        print(\"Automobile Created\")\n",
    "\n",
    "    @abstractmethod\n",
    "    def start(self):\n",
    "        pass\n",
    "\n",
    "    @abstractmethod\n",
    "    def stop(self):\n",
    "        pass\n",
    "\n",
    "    @abstractmethod\n",
    "    def drive(self):\n",
    "        pass\n",
    "\n",
    "\n",
    "class Car(Automobile):   # Inheriting from Abstract class\n",
    "    def __init__(self, name):\n",
    "        print(\"Car Created\")\n",
    "        self.name = name\n",
    "    \n",
    "\n",
    "  \n",
    "    def start(self):\n",
    "        pass\n",
    "\n",
    "    def stop(self):\n",
    "        pass\n",
    "\n",
    "\n",
    "    def drive(self):\n",
    "        pass\n",
    "\n",
    "\n",
    "c = Car(\"Tata\")        "
   ]
  },
  {
   "cell_type": "code",
   "execution_count": 8,
   "metadata": {},
   "outputs": [
    {
     "name": "stdout",
     "output_type": "stream",
     "text": [
      "Automobile Created\n"
     ]
    }
   ],
   "source": [
    "class Automobile(ABC):\n",
    "\n",
    "    def __init__(self):\n",
    "        print(\"Automobile Created\")\n",
    "\n",
    "    @abstractmethod\n",
    "    def start(self):\n",
    "        pass\n",
    "\n",
    "    @abstractmethod\n",
    "    def stop(self):\n",
    "        pass\n",
    "\n",
    "    @abstractmethod\n",
    "    def drive(self):\n",
    "        pass\n",
    "\n",
    "\n",
    "class Car(Automobile):   # Inheriting from Abstract class\n",
    "    # def __init__(self, name):\n",
    "    #     print(\"Car Created\")\n",
    "    #     self.name = name\n",
    "    \n",
    "\n",
    "  \n",
    "    def start(self):\n",
    "        pass\n",
    "\n",
    "    def stop(self):\n",
    "        pass\n",
    "\n",
    "\n",
    "    def drive(self):\n",
    "        pass\n",
    "\n",
    "\n",
    "c = Car()        "
   ]
  },
  {
   "cell_type": "code",
   "execution_count": 10,
   "metadata": {},
   "outputs": [
    {
     "name": "stdout",
     "output_type": "stream",
     "text": [
      "Car Created\n"
     ]
    }
   ],
   "source": [
    "class Automobile(ABC):\n",
    "\n",
    "    def __init__(self):\n",
    "        print(\"Automobile Created\")\n",
    "\n",
    "    @abstractmethod\n",
    "    def start(self):\n",
    "        pass\n",
    "\n",
    "    @abstractmethod\n",
    "    def stop(self):\n",
    "        pass\n",
    "\n",
    "    @abstractmethod\n",
    "    def drive(self):\n",
    "        pass\n",
    "\n",
    "\n",
    "class Car(Automobile):   # Inheriting from Abstract class\n",
    "    def __init__(self, name):\n",
    "        print(\"Car Created\")\n",
    "        self.name = name\n",
    "    \n",
    "\n",
    "  \n",
    "    def start(self):\n",
    "        pass\n",
    "\n",
    "    def stop(self):\n",
    "        pass\n",
    "\n",
    "\n",
    "    def drive(self):\n",
    "        pass\n",
    "\n",
    "\n",
    "c = Car(\"Honda\")        "
   ]
  },
  {
   "cell_type": "code",
   "execution_count": 11,
   "metadata": {},
   "outputs": [
    {
     "name": "stdout",
     "output_type": "stream",
     "text": [
      "Car Created\n"
     ]
    },
    {
     "ename": "TypeError",
     "evalue": "Can't instantiate abstract class Bus with abstract methods drive, start, stop",
     "output_type": "error",
     "traceback": [
      "\u001b[0;31m---------------------------------------------------------------------------\u001b[0m",
      "\u001b[0;31mTypeError\u001b[0m                                 Traceback (most recent call last)",
      "\u001b[1;32m/Users/anupjha/Desktop/Desk/AI KI PATHSHALA/Python/Advance_Python_017/Abstraction.ipynb Cell 10\u001b[0m line \u001b[0;36m4\n\u001b[1;32m     <a href='vscode-notebook-cell:/Users/anupjha/Desktop/Desk/AI%20KI%20PATHSHALA/Python/Advance_Python_017/Abstraction.ipynb#X12sZmlsZQ%3D%3D?line=39'>40</a>\u001b[0m         \u001b[39mself\u001b[39m\u001b[39m.\u001b[39mname \u001b[39m=\u001b[39m name\n\u001b[1;32m     <a href='vscode-notebook-cell:/Users/anupjha/Desktop/Desk/AI%20KI%20PATHSHALA/Python/Advance_Python_017/Abstraction.ipynb#X12sZmlsZQ%3D%3D?line=42'>43</a>\u001b[0m c \u001b[39m=\u001b[39m Car(\u001b[39m\"\u001b[39m\u001b[39mHonda\u001b[39m\u001b[39m\"\u001b[39m)\n\u001b[0;32m---> <a href='vscode-notebook-cell:/Users/anupjha/Desktop/Desk/AI%20KI%20PATHSHALA/Python/Advance_Python_017/Abstraction.ipynb#X12sZmlsZQ%3D%3D?line=43'>44</a>\u001b[0m b \u001b[39m=\u001b[39m Bus(\u001b[39m\"\u001b[39;49m\u001b[39mDTC Bus\u001b[39;49m\u001b[39m\"\u001b[39;49m)        \n",
      "\u001b[0;31mTypeError\u001b[0m: Can't instantiate abstract class Bus with abstract methods drive, start, stop"
     ]
    }
   ],
   "source": [
    "class Automobile(ABC):\n",
    "\n",
    "    def __init__(self):\n",
    "        print(\"Automobile Created\")\n",
    "\n",
    "    @abstractmethod\n",
    "    def start(self):\n",
    "        pass\n",
    "\n",
    "    @abstractmethod\n",
    "    def stop(self):\n",
    "        pass\n",
    "\n",
    "    @abstractmethod\n",
    "    def drive(self):\n",
    "        pass\n",
    "\n",
    "\n",
    "class Car(Automobile):   # Inheriting from Abstract class\n",
    "    def __init__(self, name):\n",
    "        print(\"Car Created\")\n",
    "        self.name = name\n",
    "    \n",
    "\n",
    "  \n",
    "    def start(self):\n",
    "        pass\n",
    "\n",
    "    def stop(self):\n",
    "        pass\n",
    "\n",
    "\n",
    "    def drive(self):\n",
    "        pass\n",
    "\n",
    "\n",
    "class Bus(Automobile):\n",
    "    def __init__(self, name):\n",
    "        print(\"Bus Created\")\n",
    "        self.name = name\n",
    "    \n",
    "    \n",
    "c = Car(\"Honda\")\n",
    "b = Bus(\"DTC Bus\")        "
   ]
  },
  {
   "cell_type": "code",
   "execution_count": 12,
   "metadata": {},
   "outputs": [
    {
     "name": "stdout",
     "output_type": "stream",
     "text": [
      "Car Created\n",
      "Bus Created\n"
     ]
    }
   ],
   "source": [
    "class Automobile(ABC):\n",
    "\n",
    "    def __init__(self):\n",
    "        print(\"Automobile Created\")\n",
    "\n",
    "    @abstractmethod\n",
    "    def start(self):\n",
    "        pass\n",
    "\n",
    "    @abstractmethod\n",
    "    def stop(self):\n",
    "        pass\n",
    "\n",
    "    @abstractmethod\n",
    "    def drive(self):\n",
    "        pass\n",
    "\n",
    "\n",
    "class Car(Automobile):   # Inheriting from Abstract class\n",
    "    def __init__(self, name):\n",
    "        print(\"Car Created\")\n",
    "        self.name = name\n",
    "    \n",
    "\n",
    "  \n",
    "    def start(self):\n",
    "        pass\n",
    "\n",
    "    def stop(self):\n",
    "        pass\n",
    "\n",
    "\n",
    "    def drive(self):\n",
    "        pass\n",
    "\n",
    "\n",
    "class Bus(Automobile):\n",
    "    def __init__(self, name):\n",
    "        print(\"Bus Created\")\n",
    "        self.name = name\n",
    "    \n",
    "\n",
    "\n",
    "    def start(self):\n",
    "        pass\n",
    "\n",
    "    def stop(self):\n",
    "        pass\n",
    "\n",
    "\n",
    "    def drive(self):\n",
    "        pass\n",
    "    \n",
    "c = Car(\"Honda\")\n",
    "b = Bus(\"DTC Bus\")        "
   ]
  },
  {
   "cell_type": "markdown",
   "metadata": {},
   "source": [
    "Object of Abstract class cannot be created\n",
    "\n",
    "Implement all the abstract methods in the child class"
   ]
  },
  {
   "cell_type": "code",
   "execution_count": 13,
   "metadata": {},
   "outputs": [
    {
     "name": "stdout",
     "output_type": "stream",
     "text": [
      "Car Created\n",
      "Bus Created\n"
     ]
    }
   ],
   "source": [
    "class Automobile(ABC):\n",
    "\n",
    "    def __init__(self):\n",
    "        print(\"Automobile Created\")\n",
    "\n",
    "    @abstractmethod\n",
    "    def start(self):\n",
    "        pass\n",
    "\n",
    "    @abstractmethod\n",
    "    def stop(self):\n",
    "        pass\n",
    "\n",
    "    @abstractmethod\n",
    "    def drive(self):\n",
    "        pass\n",
    "\n",
    "\n",
    "class Car(Automobile):   # Inheriting from Abstract class\n",
    "    def __init__(self, name):\n",
    "        print(\"Car Created\")\n",
    "        self.name = name\n",
    "    \n",
    "\n",
    "  \n",
    "    def start(self):\n",
    "        print(\"Start of Car called\")\n",
    "\n",
    "    def stop(self):\n",
    "        pass\n",
    "\n",
    "\n",
    "    def drive(self):\n",
    "        pass\n",
    "\n",
    "\n",
    "class Bus(Automobile):\n",
    "    def __init__(self, name):\n",
    "        print(\"Bus Created\")\n",
    "        self.name = name\n",
    "    \n",
    "\n",
    "\n",
    "    def start(self):\n",
    "        pass\n",
    "\n",
    "    def stop(self):\n",
    "        pass\n",
    "\n",
    "\n",
    "    def drive(self):\n",
    "        pass\n",
    "    \n",
    "c = Car(\"Honda\")\n",
    "b = Bus(\"DTC Bus\")        "
   ]
  },
  {
   "cell_type": "code",
   "execution_count": 14,
   "metadata": {},
   "outputs": [
    {
     "name": "stdout",
     "output_type": "stream",
     "text": [
      "Start of Car called\n"
     ]
    }
   ],
   "source": [
    "c.start()"
   ]
  },
  {
   "cell_type": "code",
   "execution_count": 15,
   "metadata": {},
   "outputs": [
    {
     "name": "stdout",
     "output_type": "stream",
     "text": [
      "Car Created\n",
      "Bus Created\n"
     ]
    }
   ],
   "source": [
    "class Automobile(ABC):\n",
    "\n",
    "    def __init__(self):\n",
    "        print(\"Automobile Created\")\n",
    "\n",
    "    @abstractmethod\n",
    "    def start(self):\n",
    "        print(\"Start of Automobile called\")\n",
    "\n",
    "    @abstractmethod\n",
    "    def stop(self):\n",
    "        pass\n",
    "\n",
    "    @abstractmethod\n",
    "    def drive(self):\n",
    "        pass\n",
    "\n",
    "\n",
    "class Car(Automobile):   # Inheriting from Abstract class\n",
    "    def __init__(self, name):\n",
    "        print(\"Car Created\")\n",
    "        self.name = name\n",
    "    \n",
    "\n",
    "  \n",
    "    def start(self):\n",
    "        print(\"Start of Car called\")\n",
    "\n",
    "    def stop(self):\n",
    "        pass\n",
    "\n",
    "\n",
    "    def drive(self):\n",
    "        pass\n",
    "\n",
    "\n",
    "class Bus(Automobile):\n",
    "    def __init__(self, name):\n",
    "        print(\"Bus Created\")\n",
    "        self.name = name\n",
    "    \n",
    "\n",
    "\n",
    "    def start(self):\n",
    "        pass\n",
    "\n",
    "    def stop(self):\n",
    "        pass\n",
    "\n",
    "\n",
    "    def drive(self):\n",
    "        pass\n",
    "    \n",
    "c = Car(\"Honda\")\n",
    "b = Bus(\"DTC Bus\")        "
   ]
  },
  {
   "cell_type": "code",
   "execution_count": 16,
   "metadata": {},
   "outputs": [
    {
     "name": "stdout",
     "output_type": "stream",
     "text": [
      "Start of Car called\n"
     ]
    }
   ],
   "source": [
    "c.start()"
   ]
  },
  {
   "cell_type": "code",
   "execution_count": 17,
   "metadata": {},
   "outputs": [
    {
     "name": "stdout",
     "output_type": "stream",
     "text": [
      "Car Created\n",
      "Bus Created\n"
     ]
    }
   ],
   "source": [
    "class Automobile(ABC):\n",
    "\n",
    "    def __init__(self):\n",
    "        print(\"Automobile Created\")\n",
    "\n",
    "    @abstractmethod\n",
    "    def start(self):\n",
    "        print(\"Start of Automobile called\")\n",
    "\n",
    "    @abstractmethod\n",
    "    def stop(self):\n",
    "        pass\n",
    "\n",
    "    @abstractmethod\n",
    "    def drive(self):\n",
    "        pass\n",
    "\n",
    "\n",
    "class Car(Automobile):   # Inheriting from Abstract class\n",
    "    def __init__(self, name):\n",
    "        print(\"Car Created\")\n",
    "        self.name = name\n",
    "    \n",
    "\n",
    "  \n",
    "    def start(self):\n",
    "        super().start()\n",
    "        print(\"Start of Car called\")\n",
    "\n",
    "    def stop(self):\n",
    "        pass\n",
    "\n",
    "\n",
    "    def drive(self):\n",
    "        pass\n",
    "\n",
    "\n",
    "class Bus(Automobile):\n",
    "    def __init__(self, name):\n",
    "        print(\"Bus Created\")\n",
    "        self.name = name\n",
    "    \n",
    "\n",
    "\n",
    "    def start(self):\n",
    "        pass\n",
    "\n",
    "    def stop(self):\n",
    "        pass\n",
    "\n",
    "\n",
    "    def drive(self):\n",
    "        pass\n",
    "    \n",
    "c = Car(\"Honda\")\n",
    "b = Bus(\"DTC Bus\")        "
   ]
  },
  {
   "cell_type": "code",
   "execution_count": 18,
   "metadata": {},
   "outputs": [
    {
     "name": "stdout",
     "output_type": "stream",
     "text": [
      "Start of Automobile called\n",
      "Start of Car called\n"
     ]
    }
   ],
   "source": [
    "c.start()"
   ]
  },
  {
   "cell_type": "code",
   "execution_count": 21,
   "metadata": {},
   "outputs": [],
   "source": [
    "from abc import ABC, abstractmethod\n",
    "\n",
    "class Automobile(ABC):\n",
    "    \n",
    "    def __init__(self, no_of_wheels):\n",
    "        self.no_of_wheels = no_of_wheels\n",
    "        print(\"Automobile Created\")\n",
    "    \n",
    "    @abstractmethod\n",
    "    def start(self):\n",
    "        print(\"Start of Automobile called\")\n",
    "    \n",
    "    @abstractmethod\n",
    "    def stop(self):\n",
    "        pass\n",
    "    \n",
    "    @abstractmethod\n",
    "    def drive(self):\n",
    "        pass\n",
    "    \n",
    "    \n",
    "class Car(Automobile):\n",
    "            \n",
    "    def start(self):\n",
    "        super().start()\n",
    "        print(\"Start of Car called\")\n",
    "    \n",
    "    def stop(self):\n",
    "        pass\n",
    "    \n",
    "    def drive(self):\n",
    "        \n",
    "        pass\n",
    "    \n",
    "    \n",
    "class Bus(Automobile):\n",
    "\n",
    "    def start(self):\n",
    "        pass\n",
    "    \n",
    "    def stop(self):\n",
    "        pass\n",
    "    \n",
    "    def drive(self):\n",
    "        pass    \n",
    "        "
   ]
  },
  {
   "cell_type": "code",
   "execution_count": 22,
   "metadata": {},
   "outputs": [
    {
     "ename": "TypeError",
     "evalue": "Automobile.__init__() missing 1 required positional argument: 'no_of_wheels'",
     "output_type": "error",
     "traceback": [
      "\u001b[0;31m---------------------------------------------------------------------------\u001b[0m",
      "\u001b[0;31mTypeError\u001b[0m                                 Traceback (most recent call last)",
      "\u001b[1;32m/Users/anupjha/Desktop/Desk/AI KI PATHSHALA/Python/Advance_Python_017/Abstraction.ipynb Cell 20\u001b[0m line \u001b[0;36m1\n\u001b[0;32m----> <a href='vscode-notebook-cell:/Users/anupjha/Desktop/Desk/AI%20KI%20PATHSHALA/Python/Advance_Python_017/Abstraction.ipynb#X25sZmlsZQ%3D%3D?line=0'>1</a>\u001b[0m c \u001b[39m=\u001b[39m Car()\n",
      "\u001b[0;31mTypeError\u001b[0m: Automobile.__init__() missing 1 required positional argument: 'no_of_wheels'"
     ]
    }
   ],
   "source": [
    "c = Car()"
   ]
  },
  {
   "cell_type": "code",
   "execution_count": 23,
   "metadata": {},
   "outputs": [
    {
     "name": "stdout",
     "output_type": "stream",
     "text": [
      "Automobile Created\n"
     ]
    }
   ],
   "source": [
    "c = Car(4)"
   ]
  },
  {
   "cell_type": "code",
   "execution_count": 24,
   "metadata": {},
   "outputs": [
    {
     "ename": "TypeError",
     "evalue": "Automobile.__init__() missing 1 required positional argument: 'no_of_wheels'",
     "output_type": "error",
     "traceback": [
      "\u001b[0;31m---------------------------------------------------------------------------\u001b[0m",
      "\u001b[0;31mTypeError\u001b[0m                                 Traceback (most recent call last)",
      "\u001b[1;32m/Users/anupjha/Desktop/Desk/AI KI PATHSHALA/Python/Advance_Python_017/Abstraction.ipynb Cell 22\u001b[0m line \u001b[0;36m1\n\u001b[0;32m----> <a href='vscode-notebook-cell:/Users/anupjha/Desktop/Desk/AI%20KI%20PATHSHALA/Python/Advance_Python_017/Abstraction.ipynb#X30sZmlsZQ%3D%3D?line=0'>1</a>\u001b[0m b \u001b[39m=\u001b[39m Bus()\n",
      "\u001b[0;31mTypeError\u001b[0m: Automobile.__init__() missing 1 required positional argument: 'no_of_wheels'"
     ]
    }
   ],
   "source": [
    "b = Bus()"
   ]
  },
  {
   "cell_type": "code",
   "execution_count": 25,
   "metadata": {},
   "outputs": [
    {
     "name": "stdout",
     "output_type": "stream",
     "text": [
      "Automobile Created\n"
     ]
    }
   ],
   "source": [
    "c = Car(12)"
   ]
  },
  {
   "cell_type": "code",
   "execution_count": 26,
   "metadata": {},
   "outputs": [],
   "source": [
    "from abc import ABC, abstractmethod\n",
    "\n",
    "class Automobile(ABC):\n",
    "    \n",
    "    def __init__(self, no_of_wheels):\n",
    "        self.no_of_wheels = no_of_wheels\n",
    "        print(\"Automobile Created\")\n",
    "    \n",
    "    @abstractmethod\n",
    "    def start(self):\n",
    "        print(\"Start of Automobile called\")\n",
    "    \n",
    "    @abstractmethod\n",
    "    def stop(self):\n",
    "        pass\n",
    "    \n",
    "    @abstractmethod\n",
    "    def drive(self):\n",
    "        pass\n",
    "\n",
    "    @abstractmethod\n",
    "    def get_no_of_wheels(self):\n",
    "        return self.no_of_wheels\n",
    "    \n",
    "    \n",
    "class Car(Automobile):\n",
    "            \n",
    "    def start(self):\n",
    "        super().start()\n",
    "        print(\"Start of Car called\")\n",
    "    \n",
    "    def stop(self):\n",
    "        pass\n",
    "    \n",
    "    def drive(self):\n",
    "        \n",
    "        pass\n",
    "\n",
    "    def get_no_of_wheels(self):\n",
    "        return super().get_no_of_wheels()\n",
    "    \n",
    "    \n",
    "    \n",
    "class Bus(Automobile):\n",
    "\n",
    "    def start(self):\n",
    "        pass\n",
    "    \n",
    "    def stop(self):\n",
    "        pass\n",
    "    \n",
    "    def drive(self):\n",
    "        pass   \n",
    "\n",
    "    def get_no_of_wheels(self):\n",
    "        return super().get_no_of_wheels()\n",
    "     \n",
    "        "
   ]
  },
  {
   "cell_type": "code",
   "execution_count": 27,
   "metadata": {},
   "outputs": [
    {
     "name": "stdout",
     "output_type": "stream",
     "text": [
      "Automobile Created\n",
      "Automobile Created\n",
      "4\n",
      "15\n"
     ]
    }
   ],
   "source": [
    "c = Car(4)\n",
    "b = Bus(15)\n",
    "print(c.get_no_of_wheels())\n",
    "print(b.get_no_of_wheels())"
   ]
  },
  {
   "cell_type": "code",
   "execution_count": null,
   "metadata": {},
   "outputs": [],
   "source": []
  },
  {
   "cell_type": "code",
   "execution_count": null,
   "metadata": {},
   "outputs": [],
   "source": []
  },
  {
   "cell_type": "code",
   "execution_count": null,
   "metadata": {},
   "outputs": [],
   "source": []
  }
 ],
 "metadata": {
  "kernelspec": {
   "display_name": "Python 3",
   "language": "python",
   "name": "python3"
  },
  "language_info": {
   "codemirror_mode": {
    "name": "ipython",
    "version": 3
   },
   "file_extension": ".py",
   "mimetype": "text/x-python",
   "name": "python",
   "nbconvert_exporter": "python",
   "pygments_lexer": "ipython3",
   "version": "3.11.3"
  }
 },
 "nbformat": 4,
 "nbformat_minor": 2
}
